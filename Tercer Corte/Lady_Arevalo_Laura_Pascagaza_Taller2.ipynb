{
 "cells": [
  {
   "cell_type": "markdown",
   "id": "99cf823b",
   "metadata": {},
   "source": [
    "# Universidad Santo Tomás \n",
    "\n",
    "## Taller N° 3\n",
    "\n",
    "### Integrantes:\n",
    "* Lady Tatiana Arevalo \n",
    "* Laura Viviana Pascagaza"
   ]
  },
  {
   "cell_type": "markdown",
   "id": "de3484cd",
   "metadata": {},
   "source": [
    "***Se importan las librerías***"
   ]
  },
  {
   "cell_type": "code",
   "execution_count": 1,
   "id": "e068816c",
   "metadata": {},
   "outputs": [],
   "source": [
    "import pandas as pd\n",
    "import numpy as np\n",
    "import matplotlib.pyplot as plt\n",
    "import plotly.express as px\n",
    "import os"
   ]
  },
  {
   "cell_type": "markdown",
   "id": "758e2f6b",
   "metadata": {},
   "source": [
    "***Directorio y eliminación de datos faltantes en la base***"
   ]
  },
  {
   "cell_type": "code",
   "execution_count": 2,
   "id": "e2556c81",
   "metadata": {
    "scrolled": false
   },
   "outputs": [
    {
     "data": {
      "text/html": [
       "<div>\n",
       "<style scoped>\n",
       "    .dataframe tbody tr th:only-of-type {\n",
       "        vertical-align: middle;\n",
       "    }\n",
       "\n",
       "    .dataframe tbody tr th {\n",
       "        vertical-align: top;\n",
       "    }\n",
       "\n",
       "    .dataframe thead th {\n",
       "        text-align: right;\n",
       "    }\n",
       "</style>\n",
       "<table border=\"1\" class=\"dataframe\">\n",
       "  <thead>\n",
       "    <tr style=\"text-align: right;\">\n",
       "      <th></th>\n",
       "      <th>Nombre de Lengua</th>\n",
       "      <th>Descripción de Lengua</th>\n",
       "      <th>Departamento</th>\n",
       "      <th>Familia Lingüística</th>\n",
       "      <th>Número de Habitantes</th>\n",
       "      <th>Número de Hablantes</th>\n",
       "      <th>Vitalidad</th>\n",
       "    </tr>\n",
       "  </thead>\n",
       "  <tbody>\n",
       "    <tr>\n",
       "      <th>0</th>\n",
       "      <td>CUBEO</td>\n",
       "      <td>\"El pueblo indígena Cubeo se ubica en los depa...</td>\n",
       "      <td>VAUPÉS</td>\n",
       "      <td>TUKANO</td>\n",
       "      <td>6984</td>\n",
       "      <td>4210</td>\n",
       "      <td>Vulnerable</td>\n",
       "    </tr>\n",
       "    <tr>\n",
       "      <th>1</th>\n",
       "      <td>CUIBA</td>\n",
       "      <td>\"Los kuiba, se ubican en el extremo oriental d...</td>\n",
       "      <td>CASANARE</td>\n",
       "      <td>AISLADA</td>\n",
       "      <td>769</td>\n",
       "      <td>621</td>\n",
       "      <td>En peligro de extinción</td>\n",
       "    </tr>\n",
       "    <tr>\n",
       "      <th>3</th>\n",
       "      <td>SIRIANO</td>\n",
       "      <td>\"Están localizados en el Departamento del Vaup...</td>\n",
       "      <td>VAUPÉS</td>\n",
       "      <td>TUKANO</td>\n",
       "      <td>749</td>\n",
       "      <td>0</td>\n",
       "      <td>En peligro</td>\n",
       "    </tr>\n",
       "    <tr>\n",
       "      <th>4</th>\n",
       "      <td>ACHAGUA</td>\n",
       "      <td>\"El pueblo indígena Achagua fue uno de los pue...</td>\n",
       "      <td>META</td>\n",
       "      <td>ARAWAK</td>\n",
       "      <td>796</td>\n",
       "      <td>514</td>\n",
       "      <td>En peligro de extinción</td>\n",
       "    </tr>\n",
       "    <tr>\n",
       "      <th>5</th>\n",
       "      <td>WAUNANA</td>\n",
       "      <td>\"El Censo DANE 2005 reportó 9.066 personas que...</td>\n",
       "      <td>CHOCÓ</td>\n",
       "      <td>CHOCÓ</td>\n",
       "      <td>9066</td>\n",
       "      <td>8001</td>\n",
       "      <td>Vulnerable</td>\n",
       "    </tr>\n",
       "  </tbody>\n",
       "</table>\n",
       "</div>"
      ],
      "text/plain": [
       "  Nombre de Lengua                              Descripción de Lengua  \\\n",
       "0            CUBEO  \"El pueblo indígena Cubeo se ubica en los depa...   \n",
       "1            CUIBA  \"Los kuiba, se ubican en el extremo oriental d...   \n",
       "3          SIRIANO  \"Están localizados en el Departamento del Vaup...   \n",
       "4          ACHAGUA  \"El pueblo indígena Achagua fue uno de los pue...   \n",
       "5          WAUNANA  \"El Censo DANE 2005 reportó 9.066 personas que...   \n",
       "\n",
       "  Departamento Familia Lingüística  Número de Habitantes  Número de Hablantes  \\\n",
       "0       VAUPÉS              TUKANO                  6984                 4210   \n",
       "1     CASANARE             AISLADA                   769                  621   \n",
       "3       VAUPÉS              TUKANO                   749                    0   \n",
       "4         META              ARAWAK                   796                  514   \n",
       "5        CHOCÓ               CHOCÓ                  9066                 8001   \n",
       "\n",
       "                 Vitalidad  \n",
       "0               Vulnerable  \n",
       "1  En peligro de extinción  \n",
       "3               En peligro  \n",
       "4  En peligro de extinción  \n",
       "5               Vulnerable  "
      ]
     },
     "execution_count": 2,
     "metadata": {},
     "output_type": "execute_result"
    }
   ],
   "source": [
    "path = 'C:/Users/ASUS/Desktop/Universidad/8semestre/Visualizacion/TercerCorte'\n",
    "datos = pd.read_csv(os.path.join(path, 'Nativas.csv'), sep =\",\")\n",
    "datos = datos.dropna()  #quitamos NA de toda la base\n",
    "datos.head()"
   ]
  },
  {
   "cell_type": "markdown",
   "id": "2ea882f4",
   "metadata": {},
   "source": [
    "***Descripción de la base de datos***\n",
    "\n",
    "La base de datos proviene de Datos.gov.co, tiene como nombre **Mapa Sonoro - Lenguas Nativas de Colombia**, contiene información de lenguas nativas de pueblos indígenas, palanqueros, creol y gitanos que habitan en el territorio colombiano y conservan su lengua viva, como parte fundamental de su propia identidad. \n",
    "\n",
    "La última actualización que se realizó sobre la base de datos fue el día 26 de Octubre de 2017 y son datos proporcionados por el Ministerio de Cultura de Colombia; se conforma de 27 registros y de 7 variables, las cuales son: Nombre de Lengua, Descripción de Lengua, Departamento, Familia Lingüística, Número de habitantes, Número de hablantes y Vitalidad. \n",
    "\n",
    "En el presente trabajo, las variables de interés son, Departamento, Nombre de Lengua y Vitalidad. \n",
    "\n",
    "Obtenido de: https://www.datos.gov.co/Cultura/Mapa-Sonoro-Lenguas-Nativas-de-Colombia/734h-gxtn"
   ]
  },
  {
   "cell_type": "markdown",
   "id": "aaeeee78",
   "metadata": {},
   "source": [
    "**Se observa la cantidad de registros por departamento**"
   ]
  },
  {
   "cell_type": "code",
   "execution_count": 3,
   "id": "c6695905",
   "metadata": {},
   "outputs": [
    {
     "data": {
      "text/plain": [
       "VAUPÉS          19\n",
       "AMAZONAS        12\n",
       "CHOCÓ            4\n",
       "PUTUMAYO         4\n",
       "MAGDALENA        4\n",
       "VICHADA          4\n",
       "CASANARE         2\n",
       "ANTIOQUIA        2\n",
       "ARAUCA           2\n",
       "CAUCA            2\n",
       "GUAINÍA          2\n",
       "N. SANTANDER     2\n",
       "GUAVIARE         2\n",
       "META             2\n",
       "CUNDINAMARCA     1\n",
       "SANTANDER        1\n",
       "LA GUAJIRA       1\n",
       "ATLÁNTICO        1\n",
       "BOLÍVAR          1\n",
       "CAQUETÁ          1\n",
       "NARIÑO           1\n",
       "CÓRDOBA          1\n",
       "SAN ANDRÉS       1\n",
       "Name: Departamento, dtype: int64"
      ]
     },
     "execution_count": 3,
     "metadata": {},
     "output_type": "execute_result"
    }
   ],
   "source": [
    "datos[\"Departamento\"].value_counts()"
   ]
  },
  {
   "cell_type": "markdown",
   "id": "ec442867",
   "metadata": {},
   "source": [
    "**Se escogen los primeros 5 departamentos en los que se tiene mayor información**"
   ]
  },
  {
   "cell_type": "code",
   "execution_count": 4,
   "id": "f41eff01",
   "metadata": {},
   "outputs": [
    {
     "data": {
      "text/html": [
       "<div>\n",
       "<style scoped>\n",
       "    .dataframe tbody tr th:only-of-type {\n",
       "        vertical-align: middle;\n",
       "    }\n",
       "\n",
       "    .dataframe tbody tr th {\n",
       "        vertical-align: top;\n",
       "    }\n",
       "\n",
       "    .dataframe thead th {\n",
       "        text-align: right;\n",
       "    }\n",
       "</style>\n",
       "<table border=\"1\" class=\"dataframe\">\n",
       "  <thead>\n",
       "    <tr style=\"text-align: right;\">\n",
       "      <th></th>\n",
       "      <th>Nombre de Lengua</th>\n",
       "      <th>Descripción de Lengua</th>\n",
       "      <th>Departamento</th>\n",
       "      <th>Familia Lingüística</th>\n",
       "      <th>Número de Habitantes</th>\n",
       "      <th>Número de Hablantes</th>\n",
       "      <th>Vitalidad</th>\n",
       "    </tr>\n",
       "  </thead>\n",
       "  <tbody>\n",
       "    <tr>\n",
       "      <th>0</th>\n",
       "      <td>CUBEO</td>\n",
       "      <td>\"El pueblo indígena Cubeo se ubica en los depa...</td>\n",
       "      <td>VAUPÉS</td>\n",
       "      <td>TUKANO</td>\n",
       "      <td>6984</td>\n",
       "      <td>4210</td>\n",
       "      <td>Vulnerable</td>\n",
       "    </tr>\n",
       "    <tr>\n",
       "      <th>3</th>\n",
       "      <td>SIRIANO</td>\n",
       "      <td>\"Están localizados en el Departamento del Vaup...</td>\n",
       "      <td>VAUPÉS</td>\n",
       "      <td>TUKANO</td>\n",
       "      <td>749</td>\n",
       "      <td>0</td>\n",
       "      <td>En peligro</td>\n",
       "    </tr>\n",
       "    <tr>\n",
       "      <th>9</th>\n",
       "      <td>TUKANO</td>\n",
       "      <td>\"Los Tukano habitan en Colombia y Brasil. En C...</td>\n",
       "      <td>VAUPÉS</td>\n",
       "      <td>TUKANO</td>\n",
       "      <td>2016</td>\n",
       "      <td>1460</td>\n",
       "      <td>Vulnerable</td>\n",
       "    </tr>\n",
       "    <tr>\n",
       "      <th>10</th>\n",
       "      <td>TUYUCA</td>\n",
       "      <td>\"Se localizan en los ríos Tiquié, caño Inambú ...</td>\n",
       "      <td>VAUPÉS</td>\n",
       "      <td>TUKANO</td>\n",
       "      <td>642</td>\n",
       "      <td>0</td>\n",
       "      <td>En peligro</td>\n",
       "    </tr>\n",
       "    <tr>\n",
       "      <th>13</th>\n",
       "      <td>DESANO</td>\n",
       "      <td>\"La mayor concentración de la población Desana...</td>\n",
       "      <td>VAUPÉS</td>\n",
       "      <td>TUKANO</td>\n",
       "      <td>2179</td>\n",
       "      <td>1080</td>\n",
       "      <td>En peligro</td>\n",
       "    </tr>\n",
       "  </tbody>\n",
       "</table>\n",
       "</div>"
      ],
      "text/plain": [
       "   Nombre de Lengua                              Descripción de Lengua  \\\n",
       "0             CUBEO  \"El pueblo indígena Cubeo se ubica en los depa...   \n",
       "3           SIRIANO  \"Están localizados en el Departamento del Vaup...   \n",
       "9            TUKANO  \"Los Tukano habitan en Colombia y Brasil. En C...   \n",
       "10           TUYUCA  \"Se localizan en los ríos Tiquié, caño Inambú ...   \n",
       "13           DESANO  \"La mayor concentración de la población Desana...   \n",
       "\n",
       "   Departamento Familia Lingüística  Número de Habitantes  \\\n",
       "0        VAUPÉS              TUKANO                  6984   \n",
       "3        VAUPÉS              TUKANO                   749   \n",
       "9        VAUPÉS              TUKANO                  2016   \n",
       "10       VAUPÉS              TUKANO                   642   \n",
       "13       VAUPÉS              TUKANO                  2179   \n",
       "\n",
       "    Número de Hablantes   Vitalidad  \n",
       "0                  4210  Vulnerable  \n",
       "3                     0  En peligro  \n",
       "9                  1460  Vulnerable  \n",
       "10                    0  En peligro  \n",
       "13                 1080  En peligro  "
      ]
     },
     "execution_count": 4,
     "metadata": {},
     "output_type": "execute_result"
    }
   ],
   "source": [
    "v = datos[datos['Departamento'] == \"VAUPÉS\"]\n",
    "a = datos[datos['Departamento'] == \"AMAZONAS\"]\n",
    "c = datos[datos['Departamento'] == \"CHOCÓ\"]\n",
    "p = datos[datos['Departamento'] == \"PUTUMAYO\"]\n",
    "m = datos[datos['Departamento'] == \"MAGDALENA\"]\n",
    "new = pd.concat([v,a,c,p,m]) #Nueva base con los paises de interes\n",
    "new.head()"
   ]
  },
  {
   "cell_type": "markdown",
   "id": "5ab02fd9",
   "metadata": {},
   "source": [
    "**Se realiza la visualización con las variables que se desean usar, Vitalidad, Departamento, Nombre de Lengua y Número de Hablantes**"
   ]
  },
  {
   "cell_type": "code",
   "execution_count": 9,
   "id": "877aec88",
   "metadata": {},
   "outputs": [
    {
     "data": {
      "application/vnd.plotly.v1+json": {
       "config": {
        "plotlyServerURL": "https://plot.ly"
       },
       "data": [
        {
         "branchvalues": "total",
         "domain": {
          "x": [
           0,
           1
          ],
          "y": [
           0,
           1
          ]
         },
         "hovertemplate": "labels=%{label}<br>Número de Hablantes=%{value}<br>parent=%{parent}<br>id=%{id}<extra></extra>",
         "ids": [
          "En peligro de extinción/AMAZONAS/ANDOQUE",
          "En situación critica/VAUPÉS/BARASANA",
          "En peligro/VAUPÉS/BARÁ",
          "Vulnerable/AMAZONAS/BORA",
          "En situación critica/VAUPÉS/CABIYARI",
          "En peligro/VAUPÉS/CACUA",
          "En situación critica/VAUPÉS/CARIJONA",
          "En peligro de extinción/MAGDALENA/CHIMILA",
          "En peligro de extinción/AMAZONAS/COCAMA",
          "En peligro de extinción/PUTUMAYO/COFÁN",
          "Vulnerable/VAUPÉS/CUBEO",
          "En peligro/VAUPÉS/DESANO",
          "Vulnerable/CHOCÓ/EMBERA CHAMI",
          "Vulnerable/CHOCÓ/EMBERA DOBIDA",
          "Vulnerable/CHOCÓ/EMBERA KATIO",
          "Vulnerable/MAGDALENA/IKA ARHUACO",
          "En peligro/PUTUMAYO/INGA",
          "En peligro/PUTUMAYO/KAMSÁ",
          "En peligro/VAUPÉS/KARAPANA",
          "Vulnerable/MAGDALENA/KOGUI",
          "En peligro/VAUPÉS/MAKUNA",
          "En peligro de extinción/AMAZONAS/MIRAÑA",
          "En peligro/AMAZONAS/MUINANE",
          "En situación critica/AMAZONAS/NONUYA",
          "En peligro de extinción/AMAZONAS/OCAINA",
          "En situación critica/VAUPÉS/PIRATAPUYO",
          "En situación critica/VAUPÉS/PISAMIRA",
          "En situación critica/PUTUMAYO/SIONA",
          "En peligro/VAUPÉS/SIRIANO",
          "En peligro/VAUPÉS/TAIWANO",
          "En peligro de extinción/AMAZONAS/TANIMUKA",
          "En situación critica/VAUPÉS/TARIANO",
          "En peligro/VAUPÉS/TATUYO",
          "En peligro/AMAZONAS/TIKUNA",
          "Vulnerable/VAUPÉS/TUKANO",
          "En peligro/VAUPÉS/TUYUCA",
          "En peligro/AMAZONAS/UITOTO",
          "En peligro/VAUPÉS/WANANO",
          "Vulnerable/CHOCÓ/WAUNANA",
          "En peligro/MAGDALENA/WIWA",
          "En peligro/AMAZONAS/YAGUA",
          "En peligro/AMAZONAS/YUCUNA",
          "En peligro/VAUPÉS/YURUTI",
          "En peligro/AMAZONAS",
          "En peligro de extinción/AMAZONAS",
          "En situación critica/AMAZONAS",
          "Vulnerable/AMAZONAS",
          "Vulnerable/CHOCÓ",
          "En peligro/MAGDALENA",
          "En peligro de extinción/MAGDALENA",
          "Vulnerable/MAGDALENA",
          "En peligro/PUTUMAYO",
          "En peligro de extinción/PUTUMAYO",
          "En situación critica/PUTUMAYO",
          "En peligro/VAUPÉS",
          "En situación critica/VAUPÉS",
          "Vulnerable/VAUPÉS",
          "En peligro",
          "En peligro de extinción",
          "En situación critica",
          "Vulnerable"
         ],
         "labels": [
          "ANDOQUE",
          "BARASANA",
          "BARÁ",
          "BORA",
          "CABIYARI",
          "CACUA",
          "CARIJONA",
          "CHIMILA",
          "COCAMA",
          "COFÁN",
          "CUBEO",
          "DESANO",
          "EMBERA CHAMI",
          "EMBERA DOBIDA",
          "EMBERA KATIO",
          "IKA ARHUACO",
          "INGA",
          "KAMSÁ",
          "KARAPANA",
          "KOGUI",
          "MAKUNA",
          "MIRAÑA",
          "MUINANE",
          "NONUYA",
          "OCAINA",
          "PIRATAPUYO",
          "PISAMIRA",
          "SIONA",
          "SIRIANO",
          "TAIWANO",
          "TANIMUKA",
          "TARIANO",
          "TATUYO",
          "TIKUNA",
          "TUKANO",
          "TUYUCA",
          "UITOTO",
          "WANANO",
          "WAUNANA",
          "WIWA",
          "YAGUA",
          "YUCUNA",
          "YURUTI",
          "AMAZONAS",
          "AMAZONAS",
          "AMAZONAS",
          "AMAZONAS",
          "CHOCÓ",
          "MAGDALENA",
          "MAGDALENA",
          "MAGDALENA",
          "PUTUMAYO",
          "PUTUMAYO",
          "PUTUMAYO",
          "VAUPÉS",
          "VAUPÉS",
          "VAUPÉS",
          "En peligro",
          "En peligro de extinción",
          "En situación critica",
          "Vulnerable"
         ],
         "name": "",
         "parents": [
          "En peligro de extinción/AMAZONAS",
          "En situación critica/VAUPÉS",
          "En peligro/VAUPÉS",
          "Vulnerable/AMAZONAS",
          "En situación critica/VAUPÉS",
          "En peligro/VAUPÉS",
          "En situación critica/VAUPÉS",
          "En peligro de extinción/MAGDALENA",
          "En peligro de extinción/AMAZONAS",
          "En peligro de extinción/PUTUMAYO",
          "Vulnerable/VAUPÉS",
          "En peligro/VAUPÉS",
          "Vulnerable/CHOCÓ",
          "Vulnerable/CHOCÓ",
          "Vulnerable/CHOCÓ",
          "Vulnerable/MAGDALENA",
          "En peligro/PUTUMAYO",
          "En peligro/PUTUMAYO",
          "En peligro/VAUPÉS",
          "Vulnerable/MAGDALENA",
          "En peligro/VAUPÉS",
          "En peligro de extinción/AMAZONAS",
          "En peligro/AMAZONAS",
          "En situación critica/AMAZONAS",
          "En peligro de extinción/AMAZONAS",
          "En situación critica/VAUPÉS",
          "En situación critica/VAUPÉS",
          "En situación critica/PUTUMAYO",
          "En peligro/VAUPÉS",
          "En peligro/VAUPÉS",
          "En peligro de extinción/AMAZONAS",
          "En situación critica/VAUPÉS",
          "En peligro/VAUPÉS",
          "En peligro/AMAZONAS",
          "Vulnerable/VAUPÉS",
          "En peligro/VAUPÉS",
          "En peligro/AMAZONAS",
          "En peligro/VAUPÉS",
          "Vulnerable/CHOCÓ",
          "En peligro/MAGDALENA",
          "En peligro/AMAZONAS",
          "En peligro/AMAZONAS",
          "En peligro/VAUPÉS",
          "En peligro",
          "En peligro de extinción",
          "En situación critica",
          "Vulnerable",
          "Vulnerable",
          "En peligro",
          "En peligro de extinción",
          "Vulnerable",
          "En peligro",
          "En peligro de extinción",
          "En situación critica",
          "En peligro",
          "En situación critica",
          "Vulnerable",
          "",
          "",
          "",
          ""
         ],
         "type": "treemap",
         "values": [
          46,
          232,
          0,
          377,
          82,
          231,
          10,
          1035,
          213,
          544,
          4210,
          1080,
          11923,
          23465,
          25692,
          12800,
          7090,
          2280,
          231,
          7739,
          409,
          87,
          50,
          4,
          94,
          574,
          30,
          404,
          0,
          0,
          194,
          0,
          166,
          4065,
          1460,
          0,
          2982,
          924,
          8001,
          6971,
          494,
          188,
          266,
          7779,
          634,
          4,
          377,
          69081,
          6971,
          1035,
          20539,
          9370,
          544,
          404,
          3307,
          928,
          5670,
          27427,
          2213,
          1336,
          95667
         ]
        }
       ],
       "layout": {
        "legend": {
         "tracegroupgap": 0
        },
        "margin": {
         "t": 60
        },
        "template": {
         "data": {
          "bar": [
           {
            "error_x": {
             "color": "#2a3f5f"
            },
            "error_y": {
             "color": "#2a3f5f"
            },
            "marker": {
             "line": {
              "color": "#E5ECF6",
              "width": 0.5
             },
             "pattern": {
              "fillmode": "overlay",
              "size": 10,
              "solidity": 0.2
             }
            },
            "type": "bar"
           }
          ],
          "barpolar": [
           {
            "marker": {
             "line": {
              "color": "#E5ECF6",
              "width": 0.5
             },
             "pattern": {
              "fillmode": "overlay",
              "size": 10,
              "solidity": 0.2
             }
            },
            "type": "barpolar"
           }
          ],
          "carpet": [
           {
            "aaxis": {
             "endlinecolor": "#2a3f5f",
             "gridcolor": "white",
             "linecolor": "white",
             "minorgridcolor": "white",
             "startlinecolor": "#2a3f5f"
            },
            "baxis": {
             "endlinecolor": "#2a3f5f",
             "gridcolor": "white",
             "linecolor": "white",
             "minorgridcolor": "white",
             "startlinecolor": "#2a3f5f"
            },
            "type": "carpet"
           }
          ],
          "choropleth": [
           {
            "colorbar": {
             "outlinewidth": 0,
             "ticks": ""
            },
            "type": "choropleth"
           }
          ],
          "contour": [
           {
            "colorbar": {
             "outlinewidth": 0,
             "ticks": ""
            },
            "colorscale": [
             [
              0,
              "#0d0887"
             ],
             [
              0.1111111111111111,
              "#46039f"
             ],
             [
              0.2222222222222222,
              "#7201a8"
             ],
             [
              0.3333333333333333,
              "#9c179e"
             ],
             [
              0.4444444444444444,
              "#bd3786"
             ],
             [
              0.5555555555555556,
              "#d8576b"
             ],
             [
              0.6666666666666666,
              "#ed7953"
             ],
             [
              0.7777777777777778,
              "#fb9f3a"
             ],
             [
              0.8888888888888888,
              "#fdca26"
             ],
             [
              1,
              "#f0f921"
             ]
            ],
            "type": "contour"
           }
          ],
          "contourcarpet": [
           {
            "colorbar": {
             "outlinewidth": 0,
             "ticks": ""
            },
            "type": "contourcarpet"
           }
          ],
          "heatmap": [
           {
            "colorbar": {
             "outlinewidth": 0,
             "ticks": ""
            },
            "colorscale": [
             [
              0,
              "#0d0887"
             ],
             [
              0.1111111111111111,
              "#46039f"
             ],
             [
              0.2222222222222222,
              "#7201a8"
             ],
             [
              0.3333333333333333,
              "#9c179e"
             ],
             [
              0.4444444444444444,
              "#bd3786"
             ],
             [
              0.5555555555555556,
              "#d8576b"
             ],
             [
              0.6666666666666666,
              "#ed7953"
             ],
             [
              0.7777777777777778,
              "#fb9f3a"
             ],
             [
              0.8888888888888888,
              "#fdca26"
             ],
             [
              1,
              "#f0f921"
             ]
            ],
            "type": "heatmap"
           }
          ],
          "heatmapgl": [
           {
            "colorbar": {
             "outlinewidth": 0,
             "ticks": ""
            },
            "colorscale": [
             [
              0,
              "#0d0887"
             ],
             [
              0.1111111111111111,
              "#46039f"
             ],
             [
              0.2222222222222222,
              "#7201a8"
             ],
             [
              0.3333333333333333,
              "#9c179e"
             ],
             [
              0.4444444444444444,
              "#bd3786"
             ],
             [
              0.5555555555555556,
              "#d8576b"
             ],
             [
              0.6666666666666666,
              "#ed7953"
             ],
             [
              0.7777777777777778,
              "#fb9f3a"
             ],
             [
              0.8888888888888888,
              "#fdca26"
             ],
             [
              1,
              "#f0f921"
             ]
            ],
            "type": "heatmapgl"
           }
          ],
          "histogram": [
           {
            "marker": {
             "pattern": {
              "fillmode": "overlay",
              "size": 10,
              "solidity": 0.2
             }
            },
            "type": "histogram"
           }
          ],
          "histogram2d": [
           {
            "colorbar": {
             "outlinewidth": 0,
             "ticks": ""
            },
            "colorscale": [
             [
              0,
              "#0d0887"
             ],
             [
              0.1111111111111111,
              "#46039f"
             ],
             [
              0.2222222222222222,
              "#7201a8"
             ],
             [
              0.3333333333333333,
              "#9c179e"
             ],
             [
              0.4444444444444444,
              "#bd3786"
             ],
             [
              0.5555555555555556,
              "#d8576b"
             ],
             [
              0.6666666666666666,
              "#ed7953"
             ],
             [
              0.7777777777777778,
              "#fb9f3a"
             ],
             [
              0.8888888888888888,
              "#fdca26"
             ],
             [
              1,
              "#f0f921"
             ]
            ],
            "type": "histogram2d"
           }
          ],
          "histogram2dcontour": [
           {
            "colorbar": {
             "outlinewidth": 0,
             "ticks": ""
            },
            "colorscale": [
             [
              0,
              "#0d0887"
             ],
             [
              0.1111111111111111,
              "#46039f"
             ],
             [
              0.2222222222222222,
              "#7201a8"
             ],
             [
              0.3333333333333333,
              "#9c179e"
             ],
             [
              0.4444444444444444,
              "#bd3786"
             ],
             [
              0.5555555555555556,
              "#d8576b"
             ],
             [
              0.6666666666666666,
              "#ed7953"
             ],
             [
              0.7777777777777778,
              "#fb9f3a"
             ],
             [
              0.8888888888888888,
              "#fdca26"
             ],
             [
              1,
              "#f0f921"
             ]
            ],
            "type": "histogram2dcontour"
           }
          ],
          "mesh3d": [
           {
            "colorbar": {
             "outlinewidth": 0,
             "ticks": ""
            },
            "type": "mesh3d"
           }
          ],
          "parcoords": [
           {
            "line": {
             "colorbar": {
              "outlinewidth": 0,
              "ticks": ""
             }
            },
            "type": "parcoords"
           }
          ],
          "pie": [
           {
            "automargin": true,
            "type": "pie"
           }
          ],
          "scatter": [
           {
            "fillpattern": {
             "fillmode": "overlay",
             "size": 10,
             "solidity": 0.2
            },
            "type": "scatter"
           }
          ],
          "scatter3d": [
           {
            "line": {
             "colorbar": {
              "outlinewidth": 0,
              "ticks": ""
             }
            },
            "marker": {
             "colorbar": {
              "outlinewidth": 0,
              "ticks": ""
             }
            },
            "type": "scatter3d"
           }
          ],
          "scattercarpet": [
           {
            "marker": {
             "colorbar": {
              "outlinewidth": 0,
              "ticks": ""
             }
            },
            "type": "scattercarpet"
           }
          ],
          "scattergeo": [
           {
            "marker": {
             "colorbar": {
              "outlinewidth": 0,
              "ticks": ""
             }
            },
            "type": "scattergeo"
           }
          ],
          "scattergl": [
           {
            "marker": {
             "colorbar": {
              "outlinewidth": 0,
              "ticks": ""
             }
            },
            "type": "scattergl"
           }
          ],
          "scattermapbox": [
           {
            "marker": {
             "colorbar": {
              "outlinewidth": 0,
              "ticks": ""
             }
            },
            "type": "scattermapbox"
           }
          ],
          "scatterpolar": [
           {
            "marker": {
             "colorbar": {
              "outlinewidth": 0,
              "ticks": ""
             }
            },
            "type": "scatterpolar"
           }
          ],
          "scatterpolargl": [
           {
            "marker": {
             "colorbar": {
              "outlinewidth": 0,
              "ticks": ""
             }
            },
            "type": "scatterpolargl"
           }
          ],
          "scatterternary": [
           {
            "marker": {
             "colorbar": {
              "outlinewidth": 0,
              "ticks": ""
             }
            },
            "type": "scatterternary"
           }
          ],
          "surface": [
           {
            "colorbar": {
             "outlinewidth": 0,
             "ticks": ""
            },
            "colorscale": [
             [
              0,
              "#0d0887"
             ],
             [
              0.1111111111111111,
              "#46039f"
             ],
             [
              0.2222222222222222,
              "#7201a8"
             ],
             [
              0.3333333333333333,
              "#9c179e"
             ],
             [
              0.4444444444444444,
              "#bd3786"
             ],
             [
              0.5555555555555556,
              "#d8576b"
             ],
             [
              0.6666666666666666,
              "#ed7953"
             ],
             [
              0.7777777777777778,
              "#fb9f3a"
             ],
             [
              0.8888888888888888,
              "#fdca26"
             ],
             [
              1,
              "#f0f921"
             ]
            ],
            "type": "surface"
           }
          ],
          "table": [
           {
            "cells": {
             "fill": {
              "color": "#EBF0F8"
             },
             "line": {
              "color": "white"
             }
            },
            "header": {
             "fill": {
              "color": "#C8D4E3"
             },
             "line": {
              "color": "white"
             }
            },
            "type": "table"
           }
          ]
         },
         "layout": {
          "annotationdefaults": {
           "arrowcolor": "#2a3f5f",
           "arrowhead": 0,
           "arrowwidth": 1
          },
          "autotypenumbers": "strict",
          "coloraxis": {
           "colorbar": {
            "outlinewidth": 0,
            "ticks": ""
           }
          },
          "colorscale": {
           "diverging": [
            [
             0,
             "#8e0152"
            ],
            [
             0.1,
             "#c51b7d"
            ],
            [
             0.2,
             "#de77ae"
            ],
            [
             0.3,
             "#f1b6da"
            ],
            [
             0.4,
             "#fde0ef"
            ],
            [
             0.5,
             "#f7f7f7"
            ],
            [
             0.6,
             "#e6f5d0"
            ],
            [
             0.7,
             "#b8e186"
            ],
            [
             0.8,
             "#7fbc41"
            ],
            [
             0.9,
             "#4d9221"
            ],
            [
             1,
             "#276419"
            ]
           ],
           "sequential": [
            [
             0,
             "#0d0887"
            ],
            [
             0.1111111111111111,
             "#46039f"
            ],
            [
             0.2222222222222222,
             "#7201a8"
            ],
            [
             0.3333333333333333,
             "#9c179e"
            ],
            [
             0.4444444444444444,
             "#bd3786"
            ],
            [
             0.5555555555555556,
             "#d8576b"
            ],
            [
             0.6666666666666666,
             "#ed7953"
            ],
            [
             0.7777777777777778,
             "#fb9f3a"
            ],
            [
             0.8888888888888888,
             "#fdca26"
            ],
            [
             1,
             "#f0f921"
            ]
           ],
           "sequentialminus": [
            [
             0,
             "#0d0887"
            ],
            [
             0.1111111111111111,
             "#46039f"
            ],
            [
             0.2222222222222222,
             "#7201a8"
            ],
            [
             0.3333333333333333,
             "#9c179e"
            ],
            [
             0.4444444444444444,
             "#bd3786"
            ],
            [
             0.5555555555555556,
             "#d8576b"
            ],
            [
             0.6666666666666666,
             "#ed7953"
            ],
            [
             0.7777777777777778,
             "#fb9f3a"
            ],
            [
             0.8888888888888888,
             "#fdca26"
            ],
            [
             1,
             "#f0f921"
            ]
           ]
          },
          "colorway": [
           "#636efa",
           "#EF553B",
           "#00cc96",
           "#ab63fa",
           "#FFA15A",
           "#19d3f3",
           "#FF6692",
           "#B6E880",
           "#FF97FF",
           "#FECB52"
          ],
          "font": {
           "color": "#2a3f5f"
          },
          "geo": {
           "bgcolor": "white",
           "lakecolor": "white",
           "landcolor": "#E5ECF6",
           "showlakes": true,
           "showland": true,
           "subunitcolor": "white"
          },
          "hoverlabel": {
           "align": "left"
          },
          "hovermode": "closest",
          "mapbox": {
           "style": "light"
          },
          "paper_bgcolor": "white",
          "plot_bgcolor": "#E5ECF6",
          "polar": {
           "angularaxis": {
            "gridcolor": "white",
            "linecolor": "white",
            "ticks": ""
           },
           "bgcolor": "#E5ECF6",
           "radialaxis": {
            "gridcolor": "white",
            "linecolor": "white",
            "ticks": ""
           }
          },
          "scene": {
           "xaxis": {
            "backgroundcolor": "#E5ECF6",
            "gridcolor": "white",
            "gridwidth": 2,
            "linecolor": "white",
            "showbackground": true,
            "ticks": "",
            "zerolinecolor": "white"
           },
           "yaxis": {
            "backgroundcolor": "#E5ECF6",
            "gridcolor": "white",
            "gridwidth": 2,
            "linecolor": "white",
            "showbackground": true,
            "ticks": "",
            "zerolinecolor": "white"
           },
           "zaxis": {
            "backgroundcolor": "#E5ECF6",
            "gridcolor": "white",
            "gridwidth": 2,
            "linecolor": "white",
            "showbackground": true,
            "ticks": "",
            "zerolinecolor": "white"
           }
          },
          "shapedefaults": {
           "line": {
            "color": "#2a3f5f"
           }
          },
          "ternary": {
           "aaxis": {
            "gridcolor": "white",
            "linecolor": "white",
            "ticks": ""
           },
           "baxis": {
            "gridcolor": "white",
            "linecolor": "white",
            "ticks": ""
           },
           "bgcolor": "#E5ECF6",
           "caxis": {
            "gridcolor": "white",
            "linecolor": "white",
            "ticks": ""
           }
          },
          "title": {
           "x": 0.05
          },
          "xaxis": {
           "automargin": true,
           "gridcolor": "white",
           "linecolor": "white",
           "ticks": "",
           "title": {
            "standoff": 15
           },
           "zerolinecolor": "white",
           "zerolinewidth": 2
          },
          "yaxis": {
           "automargin": true,
           "gridcolor": "white",
           "linecolor": "white",
           "ticks": "",
           "title": {
            "standoff": 15
           },
           "zerolinecolor": "white",
           "zerolinewidth": 2
          }
         }
        }
       }
      },
      "text/html": [
       "<div>                            <div id=\"cea30285-79b5-438f-92ca-f5319d5cbbe1\" class=\"plotly-graph-div\" style=\"height:525px; width:100%;\"></div>            <script type=\"text/javascript\">                require([\"plotly\"], function(Plotly) {                    window.PLOTLYENV=window.PLOTLYENV || {};                                    if (document.getElementById(\"cea30285-79b5-438f-92ca-f5319d5cbbe1\")) {                    Plotly.newPlot(                        \"cea30285-79b5-438f-92ca-f5319d5cbbe1\",                        [{\"branchvalues\":\"total\",\"domain\":{\"x\":[0.0,1.0],\"y\":[0.0,1.0]},\"hovertemplate\":\"labels=%{label}<br>N\\u00famero de Hablantes=%{value}<br>parent=%{parent}<br>id=%{id}<extra></extra>\",\"ids\":[\"En peligro de extinci\\u00f3n/AMAZONAS/ANDOQUE\",\"En situaci\\u00f3n critica/VAUP\\u00c9S/BARASANA\",\"En peligro/VAUP\\u00c9S/BAR\\u00c1\",\"Vulnerable/AMAZONAS/BORA\",\"En situaci\\u00f3n critica/VAUP\\u00c9S/CABIYARI\",\"En peligro/VAUP\\u00c9S/CACUA\",\"En situaci\\u00f3n critica/VAUP\\u00c9S/CARIJONA\",\"En peligro de extinci\\u00f3n/MAGDALENA/CHIMILA\",\"En peligro de extinci\\u00f3n/AMAZONAS/COCAMA\",\"En peligro de extinci\\u00f3n/PUTUMAYO/COF\\u00c1N\",\"Vulnerable/VAUP\\u00c9S/CUBEO\",\"En peligro/VAUP\\u00c9S/DESANO\",\"Vulnerable/CHOC\\u00d3/EMBERA CHAMI\",\"Vulnerable/CHOC\\u00d3/EMBERA DOBIDA\",\"Vulnerable/CHOC\\u00d3/EMBERA KATIO\",\"Vulnerable/MAGDALENA/IKA ARHUACO\",\"En peligro/PUTUMAYO/INGA\",\"En peligro/PUTUMAYO/KAMS\\u00c1\",\"En peligro/VAUP\\u00c9S/KARAPANA\",\"Vulnerable/MAGDALENA/KOGUI\",\"En peligro/VAUP\\u00c9S/MAKUNA\",\"En peligro de extinci\\u00f3n/AMAZONAS/MIRA\\u00d1A\",\"En peligro/AMAZONAS/MUINANE\",\"En situaci\\u00f3n critica/AMAZONAS/NONUYA\",\"En peligro de extinci\\u00f3n/AMAZONAS/OCAINA\",\"En situaci\\u00f3n critica/VAUP\\u00c9S/PIRATAPUYO\",\"En situaci\\u00f3n critica/VAUP\\u00c9S/PISAMIRA\",\"En situaci\\u00f3n critica/PUTUMAYO/SIONA\",\"En peligro/VAUP\\u00c9S/SIRIANO\",\"En peligro/VAUP\\u00c9S/TAIWANO\",\"En peligro de extinci\\u00f3n/AMAZONAS/TANIMUKA\",\"En situaci\\u00f3n critica/VAUP\\u00c9S/TARIANO\",\"En peligro/VAUP\\u00c9S/TATUYO\",\"En peligro/AMAZONAS/TIKUNA\",\"Vulnerable/VAUP\\u00c9S/TUKANO\",\"En peligro/VAUP\\u00c9S/TUYUCA\",\"En peligro/AMAZONAS/UITOTO\",\"En peligro/VAUP\\u00c9S/WANANO\",\"Vulnerable/CHOC\\u00d3/WAUNANA\",\"En peligro/MAGDALENA/WIWA\",\"En peligro/AMAZONAS/YAGUA\",\"En peligro/AMAZONAS/YUCUNA\",\"En peligro/VAUP\\u00c9S/YURUTI\",\"En peligro/AMAZONAS\",\"En peligro de extinci\\u00f3n/AMAZONAS\",\"En situaci\\u00f3n critica/AMAZONAS\",\"Vulnerable/AMAZONAS\",\"Vulnerable/CHOC\\u00d3\",\"En peligro/MAGDALENA\",\"En peligro de extinci\\u00f3n/MAGDALENA\",\"Vulnerable/MAGDALENA\",\"En peligro/PUTUMAYO\",\"En peligro de extinci\\u00f3n/PUTUMAYO\",\"En situaci\\u00f3n critica/PUTUMAYO\",\"En peligro/VAUP\\u00c9S\",\"En situaci\\u00f3n critica/VAUP\\u00c9S\",\"Vulnerable/VAUP\\u00c9S\",\"En peligro\",\"En peligro de extinci\\u00f3n\",\"En situaci\\u00f3n critica\",\"Vulnerable\"],\"labels\":[\"ANDOQUE\",\"BARASANA\",\"BAR\\u00c1\",\"BORA\",\"CABIYARI\",\"CACUA\",\"CARIJONA\",\"CHIMILA\",\"COCAMA\",\"COF\\u00c1N\",\"CUBEO\",\"DESANO\",\"EMBERA CHAMI\",\"EMBERA DOBIDA\",\"EMBERA KATIO\",\"IKA ARHUACO\",\"INGA\",\"KAMS\\u00c1\",\"KARAPANA\",\"KOGUI\",\"MAKUNA\",\"MIRA\\u00d1A\",\"MUINANE\",\"NONUYA\",\"OCAINA\",\"PIRATAPUYO\",\"PISAMIRA\",\"SIONA\",\"SIRIANO\",\"TAIWANO\",\"TANIMUKA\",\"TARIANO\",\"TATUYO\",\"TIKUNA\",\"TUKANO\",\"TUYUCA\",\"UITOTO\",\"WANANO\",\"WAUNANA\",\"WIWA\",\"YAGUA\",\"YUCUNA\",\"YURUTI\",\"AMAZONAS\",\"AMAZONAS\",\"AMAZONAS\",\"AMAZONAS\",\"CHOC\\u00d3\",\"MAGDALENA\",\"MAGDALENA\",\"MAGDALENA\",\"PUTUMAYO\",\"PUTUMAYO\",\"PUTUMAYO\",\"VAUP\\u00c9S\",\"VAUP\\u00c9S\",\"VAUP\\u00c9S\",\"En peligro\",\"En peligro de extinci\\u00f3n\",\"En situaci\\u00f3n critica\",\"Vulnerable\"],\"name\":\"\",\"parents\":[\"En peligro de extinci\\u00f3n/AMAZONAS\",\"En situaci\\u00f3n critica/VAUP\\u00c9S\",\"En peligro/VAUP\\u00c9S\",\"Vulnerable/AMAZONAS\",\"En situaci\\u00f3n critica/VAUP\\u00c9S\",\"En peligro/VAUP\\u00c9S\",\"En situaci\\u00f3n critica/VAUP\\u00c9S\",\"En peligro de extinci\\u00f3n/MAGDALENA\",\"En peligro de extinci\\u00f3n/AMAZONAS\",\"En peligro de extinci\\u00f3n/PUTUMAYO\",\"Vulnerable/VAUP\\u00c9S\",\"En peligro/VAUP\\u00c9S\",\"Vulnerable/CHOC\\u00d3\",\"Vulnerable/CHOC\\u00d3\",\"Vulnerable/CHOC\\u00d3\",\"Vulnerable/MAGDALENA\",\"En peligro/PUTUMAYO\",\"En peligro/PUTUMAYO\",\"En peligro/VAUP\\u00c9S\",\"Vulnerable/MAGDALENA\",\"En peligro/VAUP\\u00c9S\",\"En peligro de extinci\\u00f3n/AMAZONAS\",\"En peligro/AMAZONAS\",\"En situaci\\u00f3n critica/AMAZONAS\",\"En peligro de extinci\\u00f3n/AMAZONAS\",\"En situaci\\u00f3n critica/VAUP\\u00c9S\",\"En situaci\\u00f3n critica/VAUP\\u00c9S\",\"En situaci\\u00f3n critica/PUTUMAYO\",\"En peligro/VAUP\\u00c9S\",\"En peligro/VAUP\\u00c9S\",\"En peligro de extinci\\u00f3n/AMAZONAS\",\"En situaci\\u00f3n critica/VAUP\\u00c9S\",\"En peligro/VAUP\\u00c9S\",\"En peligro/AMAZONAS\",\"Vulnerable/VAUP\\u00c9S\",\"En peligro/VAUP\\u00c9S\",\"En peligro/AMAZONAS\",\"En peligro/VAUP\\u00c9S\",\"Vulnerable/CHOC\\u00d3\",\"En peligro/MAGDALENA\",\"En peligro/AMAZONAS\",\"En peligro/AMAZONAS\",\"En peligro/VAUP\\u00c9S\",\"En peligro\",\"En peligro de extinci\\u00f3n\",\"En situaci\\u00f3n critica\",\"Vulnerable\",\"Vulnerable\",\"En peligro\",\"En peligro de extinci\\u00f3n\",\"Vulnerable\",\"En peligro\",\"En peligro de extinci\\u00f3n\",\"En situaci\\u00f3n critica\",\"En peligro\",\"En situaci\\u00f3n critica\",\"Vulnerable\",\"\",\"\",\"\",\"\"],\"values\":[46,232,0,377,82,231,10,1035,213,544,4210,1080,11923,23465,25692,12800,7090,2280,231,7739,409,87,50,4,94,574,30,404,0,0,194,0,166,4065,1460,0,2982,924,8001,6971,494,188,266,7779,634,4,377,69081,6971,1035,20539,9370,544,404,3307,928,5670,27427,2213,1336,95667],\"type\":\"treemap\"}],                        {\"template\":{\"data\":{\"histogram2dcontour\":[{\"type\":\"histogram2dcontour\",\"colorbar\":{\"outlinewidth\":0,\"ticks\":\"\"},\"colorscale\":[[0.0,\"#0d0887\"],[0.1111111111111111,\"#46039f\"],[0.2222222222222222,\"#7201a8\"],[0.3333333333333333,\"#9c179e\"],[0.4444444444444444,\"#bd3786\"],[0.5555555555555556,\"#d8576b\"],[0.6666666666666666,\"#ed7953\"],[0.7777777777777778,\"#fb9f3a\"],[0.8888888888888888,\"#fdca26\"],[1.0,\"#f0f921\"]]}],\"choropleth\":[{\"type\":\"choropleth\",\"colorbar\":{\"outlinewidth\":0,\"ticks\":\"\"}}],\"histogram2d\":[{\"type\":\"histogram2d\",\"colorbar\":{\"outlinewidth\":0,\"ticks\":\"\"},\"colorscale\":[[0.0,\"#0d0887\"],[0.1111111111111111,\"#46039f\"],[0.2222222222222222,\"#7201a8\"],[0.3333333333333333,\"#9c179e\"],[0.4444444444444444,\"#bd3786\"],[0.5555555555555556,\"#d8576b\"],[0.6666666666666666,\"#ed7953\"],[0.7777777777777778,\"#fb9f3a\"],[0.8888888888888888,\"#fdca26\"],[1.0,\"#f0f921\"]]}],\"heatmap\":[{\"type\":\"heatmap\",\"colorbar\":{\"outlinewidth\":0,\"ticks\":\"\"},\"colorscale\":[[0.0,\"#0d0887\"],[0.1111111111111111,\"#46039f\"],[0.2222222222222222,\"#7201a8\"],[0.3333333333333333,\"#9c179e\"],[0.4444444444444444,\"#bd3786\"],[0.5555555555555556,\"#d8576b\"],[0.6666666666666666,\"#ed7953\"],[0.7777777777777778,\"#fb9f3a\"],[0.8888888888888888,\"#fdca26\"],[1.0,\"#f0f921\"]]}],\"heatmapgl\":[{\"type\":\"heatmapgl\",\"colorbar\":{\"outlinewidth\":0,\"ticks\":\"\"},\"colorscale\":[[0.0,\"#0d0887\"],[0.1111111111111111,\"#46039f\"],[0.2222222222222222,\"#7201a8\"],[0.3333333333333333,\"#9c179e\"],[0.4444444444444444,\"#bd3786\"],[0.5555555555555556,\"#d8576b\"],[0.6666666666666666,\"#ed7953\"],[0.7777777777777778,\"#fb9f3a\"],[0.8888888888888888,\"#fdca26\"],[1.0,\"#f0f921\"]]}],\"contourcarpet\":[{\"type\":\"contourcarpet\",\"colorbar\":{\"outlinewidth\":0,\"ticks\":\"\"}}],\"contour\":[{\"type\":\"contour\",\"colorbar\":{\"outlinewidth\":0,\"ticks\":\"\"},\"colorscale\":[[0.0,\"#0d0887\"],[0.1111111111111111,\"#46039f\"],[0.2222222222222222,\"#7201a8\"],[0.3333333333333333,\"#9c179e\"],[0.4444444444444444,\"#bd3786\"],[0.5555555555555556,\"#d8576b\"],[0.6666666666666666,\"#ed7953\"],[0.7777777777777778,\"#fb9f3a\"],[0.8888888888888888,\"#fdca26\"],[1.0,\"#f0f921\"]]}],\"surface\":[{\"type\":\"surface\",\"colorbar\":{\"outlinewidth\":0,\"ticks\":\"\"},\"colorscale\":[[0.0,\"#0d0887\"],[0.1111111111111111,\"#46039f\"],[0.2222222222222222,\"#7201a8\"],[0.3333333333333333,\"#9c179e\"],[0.4444444444444444,\"#bd3786\"],[0.5555555555555556,\"#d8576b\"],[0.6666666666666666,\"#ed7953\"],[0.7777777777777778,\"#fb9f3a\"],[0.8888888888888888,\"#fdca26\"],[1.0,\"#f0f921\"]]}],\"mesh3d\":[{\"type\":\"mesh3d\",\"colorbar\":{\"outlinewidth\":0,\"ticks\":\"\"}}],\"scatter\":[{\"fillpattern\":{\"fillmode\":\"overlay\",\"size\":10,\"solidity\":0.2},\"type\":\"scatter\"}],\"parcoords\":[{\"type\":\"parcoords\",\"line\":{\"colorbar\":{\"outlinewidth\":0,\"ticks\":\"\"}}}],\"scatterpolargl\":[{\"type\":\"scatterpolargl\",\"marker\":{\"colorbar\":{\"outlinewidth\":0,\"ticks\":\"\"}}}],\"bar\":[{\"error_x\":{\"color\":\"#2a3f5f\"},\"error_y\":{\"color\":\"#2a3f5f\"},\"marker\":{\"line\":{\"color\":\"#E5ECF6\",\"width\":0.5},\"pattern\":{\"fillmode\":\"overlay\",\"size\":10,\"solidity\":0.2}},\"type\":\"bar\"}],\"scattergeo\":[{\"type\":\"scattergeo\",\"marker\":{\"colorbar\":{\"outlinewidth\":0,\"ticks\":\"\"}}}],\"scatterpolar\":[{\"type\":\"scatterpolar\",\"marker\":{\"colorbar\":{\"outlinewidth\":0,\"ticks\":\"\"}}}],\"histogram\":[{\"marker\":{\"pattern\":{\"fillmode\":\"overlay\",\"size\":10,\"solidity\":0.2}},\"type\":\"histogram\"}],\"scattergl\":[{\"type\":\"scattergl\",\"marker\":{\"colorbar\":{\"outlinewidth\":0,\"ticks\":\"\"}}}],\"scatter3d\":[{\"type\":\"scatter3d\",\"line\":{\"colorbar\":{\"outlinewidth\":0,\"ticks\":\"\"}},\"marker\":{\"colorbar\":{\"outlinewidth\":0,\"ticks\":\"\"}}}],\"scattermapbox\":[{\"type\":\"scattermapbox\",\"marker\":{\"colorbar\":{\"outlinewidth\":0,\"ticks\":\"\"}}}],\"scatterternary\":[{\"type\":\"scatterternary\",\"marker\":{\"colorbar\":{\"outlinewidth\":0,\"ticks\":\"\"}}}],\"scattercarpet\":[{\"type\":\"scattercarpet\",\"marker\":{\"colorbar\":{\"outlinewidth\":0,\"ticks\":\"\"}}}],\"carpet\":[{\"aaxis\":{\"endlinecolor\":\"#2a3f5f\",\"gridcolor\":\"white\",\"linecolor\":\"white\",\"minorgridcolor\":\"white\",\"startlinecolor\":\"#2a3f5f\"},\"baxis\":{\"endlinecolor\":\"#2a3f5f\",\"gridcolor\":\"white\",\"linecolor\":\"white\",\"minorgridcolor\":\"white\",\"startlinecolor\":\"#2a3f5f\"},\"type\":\"carpet\"}],\"table\":[{\"cells\":{\"fill\":{\"color\":\"#EBF0F8\"},\"line\":{\"color\":\"white\"}},\"header\":{\"fill\":{\"color\":\"#C8D4E3\"},\"line\":{\"color\":\"white\"}},\"type\":\"table\"}],\"barpolar\":[{\"marker\":{\"line\":{\"color\":\"#E5ECF6\",\"width\":0.5},\"pattern\":{\"fillmode\":\"overlay\",\"size\":10,\"solidity\":0.2}},\"type\":\"barpolar\"}],\"pie\":[{\"automargin\":true,\"type\":\"pie\"}]},\"layout\":{\"autotypenumbers\":\"strict\",\"colorway\":[\"#636efa\",\"#EF553B\",\"#00cc96\",\"#ab63fa\",\"#FFA15A\",\"#19d3f3\",\"#FF6692\",\"#B6E880\",\"#FF97FF\",\"#FECB52\"],\"font\":{\"color\":\"#2a3f5f\"},\"hovermode\":\"closest\",\"hoverlabel\":{\"align\":\"left\"},\"paper_bgcolor\":\"white\",\"plot_bgcolor\":\"#E5ECF6\",\"polar\":{\"bgcolor\":\"#E5ECF6\",\"angularaxis\":{\"gridcolor\":\"white\",\"linecolor\":\"white\",\"ticks\":\"\"},\"radialaxis\":{\"gridcolor\":\"white\",\"linecolor\":\"white\",\"ticks\":\"\"}},\"ternary\":{\"bgcolor\":\"#E5ECF6\",\"aaxis\":{\"gridcolor\":\"white\",\"linecolor\":\"white\",\"ticks\":\"\"},\"baxis\":{\"gridcolor\":\"white\",\"linecolor\":\"white\",\"ticks\":\"\"},\"caxis\":{\"gridcolor\":\"white\",\"linecolor\":\"white\",\"ticks\":\"\"}},\"coloraxis\":{\"colorbar\":{\"outlinewidth\":0,\"ticks\":\"\"}},\"colorscale\":{\"sequential\":[[0.0,\"#0d0887\"],[0.1111111111111111,\"#46039f\"],[0.2222222222222222,\"#7201a8\"],[0.3333333333333333,\"#9c179e\"],[0.4444444444444444,\"#bd3786\"],[0.5555555555555556,\"#d8576b\"],[0.6666666666666666,\"#ed7953\"],[0.7777777777777778,\"#fb9f3a\"],[0.8888888888888888,\"#fdca26\"],[1.0,\"#f0f921\"]],\"sequentialminus\":[[0.0,\"#0d0887\"],[0.1111111111111111,\"#46039f\"],[0.2222222222222222,\"#7201a8\"],[0.3333333333333333,\"#9c179e\"],[0.4444444444444444,\"#bd3786\"],[0.5555555555555556,\"#d8576b\"],[0.6666666666666666,\"#ed7953\"],[0.7777777777777778,\"#fb9f3a\"],[0.8888888888888888,\"#fdca26\"],[1.0,\"#f0f921\"]],\"diverging\":[[0,\"#8e0152\"],[0.1,\"#c51b7d\"],[0.2,\"#de77ae\"],[0.3,\"#f1b6da\"],[0.4,\"#fde0ef\"],[0.5,\"#f7f7f7\"],[0.6,\"#e6f5d0\"],[0.7,\"#b8e186\"],[0.8,\"#7fbc41\"],[0.9,\"#4d9221\"],[1,\"#276419\"]]},\"xaxis\":{\"gridcolor\":\"white\",\"linecolor\":\"white\",\"ticks\":\"\",\"title\":{\"standoff\":15},\"zerolinecolor\":\"white\",\"automargin\":true,\"zerolinewidth\":2},\"yaxis\":{\"gridcolor\":\"white\",\"linecolor\":\"white\",\"ticks\":\"\",\"title\":{\"standoff\":15},\"zerolinecolor\":\"white\",\"automargin\":true,\"zerolinewidth\":2},\"scene\":{\"xaxis\":{\"backgroundcolor\":\"#E5ECF6\",\"gridcolor\":\"white\",\"linecolor\":\"white\",\"showbackground\":true,\"ticks\":\"\",\"zerolinecolor\":\"white\",\"gridwidth\":2},\"yaxis\":{\"backgroundcolor\":\"#E5ECF6\",\"gridcolor\":\"white\",\"linecolor\":\"white\",\"showbackground\":true,\"ticks\":\"\",\"zerolinecolor\":\"white\",\"gridwidth\":2},\"zaxis\":{\"backgroundcolor\":\"#E5ECF6\",\"gridcolor\":\"white\",\"linecolor\":\"white\",\"showbackground\":true,\"ticks\":\"\",\"zerolinecolor\":\"white\",\"gridwidth\":2}},\"shapedefaults\":{\"line\":{\"color\":\"#2a3f5f\"}},\"annotationdefaults\":{\"arrowcolor\":\"#2a3f5f\",\"arrowhead\":0,\"arrowwidth\":1},\"geo\":{\"bgcolor\":\"white\",\"landcolor\":\"#E5ECF6\",\"subunitcolor\":\"white\",\"showland\":true,\"showlakes\":true,\"lakecolor\":\"white\"},\"title\":{\"x\":0.05},\"mapbox\":{\"style\":\"light\"}}},\"legend\":{\"tracegroupgap\":0},\"margin\":{\"t\":60}},                        {\"responsive\": true}                    ).then(function(){\n",
       "                            \n",
       "var gd = document.getElementById('cea30285-79b5-438f-92ca-f5319d5cbbe1');\n",
       "var x = new MutationObserver(function (mutations, observer) {{\n",
       "        var display = window.getComputedStyle(gd).display;\n",
       "        if (!display || display === 'none') {{\n",
       "            console.log([gd, 'removed!']);\n",
       "            Plotly.purge(gd);\n",
       "            observer.disconnect();\n",
       "        }}\n",
       "}});\n",
       "\n",
       "// Listen for the removal of the full notebook cells\n",
       "var notebookContainer = gd.closest('#notebook-container');\n",
       "if (notebookContainer) {{\n",
       "    x.observe(notebookContainer, {childList: true});\n",
       "}}\n",
       "\n",
       "// Listen for the clearing of the current output cell\n",
       "var outputEl = gd.closest('.output');\n",
       "if (outputEl) {{\n",
       "    x.observe(outputEl, {childList: true});\n",
       "}}\n",
       "\n",
       "                        })                };                });            </script>        </div>"
      ]
     },
     "metadata": {},
     "output_type": "display_data"
    }
   ],
   "source": [
    "fig = px.treemap(new, path=['Vitalidad',\"Departamento\",'Nombre de Lengua'],\n",
    "                 values='Número de Hablantes')\n",
    "  \n",
    "fig.show()"
   ]
  },
  {
   "cell_type": "markdown",
   "id": "91e342da",
   "metadata": {},
   "source": [
    "# Abstracción\n",
    "\n",
    "**¿Qué?**\n",
    "* Datos cuantitativos y categoricos representados en forma de tabla de forma estática.\n",
    "* **Vitalidad:** Variable categórica que representa la vitalidad lingüística de las lenguas nativas de Colomnia.\n",
    "* **Departamento:** Variable categórica que representa el departamento de la lengua nativa en Colombia.\n",
    "* **Nombre de lengua:** Variable categórica que representa el nombre de la lengua nativa.\n",
    "* **Número de hablantes:** Variable ordenada cuantitativa que representa la cantidad de personas que hablan una determinada lengua nativa en Colombia. \n",
    "\n",
    "**¿Por qué?**\n",
    "* Comparar que tan fuerte o que tan debil es la relación entre algunos nodos hoja entre vitalildad, departamento y nombre de la lengua.\n",
    "* Descubrir y localizar datos atípicos como las lenguas que tienen menor o mayor número de hablantes por departamento según su vitalidad. \n",
    "* Comparar las tendencias que existen por vitalidad de las lenguas nativas\n",
    "\n",
    "**¿Cómo?**\n",
    "\n",
    "* Se realiza por medio de un mapa por color según la variable categorica representada.\n",
    "* Map → Hue\n",
    "\n",
    "**Qué tarea cumple:**\n",
    "\n",
    "Comprar todas las clasificaciones y relaciones que se tienen en los nodos de las hojas de vitalidad, departamento y nombre de lengua nativa.\n"
   ]
  },
  {
   "cell_type": "markdown",
   "id": "f5b86e40",
   "metadata": {},
   "source": [
    "# **Marcas y canales utilizados**\n",
    "\n",
    "**Marcas:** \n",
    "* Marca de área sobre el Número total de Hablantes de la lengua Nativa por Departamento.\n",
    "\n",
    "**Canales:**\n",
    "* Canal de tamaño para representar la variable ordenada cuantitativa \"Número de Hablantes\"\n",
    "* Canal de color para separar los atributos de la variable categórica \"Vitalidad\": Vulnerable, En peligro, En peligro de extinción y En situación crítica. \n",
    "* Canal de posición horizontal y ventical para representar la variable ordenada cuantitativa \"Número de hablantes\" de una lengua nativa según el departamento y respectiva clasificación de vitalidad."
   ]
  },
  {
   "cell_type": "markdown",
   "id": "2d83bf44",
   "metadata": {},
   "source": [
    "# **¿Cumple o no con alguna de las reglas generales descritas?**\n",
    "\n",
    "* **3D Injustificado:** Para la visualización, no se utiliza ningún tipo de forma 3D.\n",
    "\n",
    "* **2D Injustificado:** Teniendo en cuenta que el gráfico permite conocer y acceder a mayor información que no esta a simple vista, se podría decir que no es injustificado el 2D. \n",
    "\n",
    "* **¿Ojos ganan a memoria?:** Esta visualización no cuenta con animación.\n",
    "\n",
    "* **Resolución sobre inmersión:** Aunque existen algunas categorías en las que no se alcanza a leer a simple vista la información esta visualización no requiere gran resolución.\n",
    "\n",
    "* **Capacidad de respuesta:** Es sencillo y rápido acceder a toda la información.\n",
    "\n",
    "* **Overview, zoom y filtro:** La visualización permite acceder a la información que se encuentra en un rango reducido al momento de ubicar el cursor encima de la categoría de interés. \n",
    "\n",
    "* **Primero función, luego forma:** El gráfico puede ser perfeccionado, sin embargo se logra entender la idea. "
   ]
  },
  {
   "cell_type": "markdown",
   "id": "2334315b",
   "metadata": {},
   "source": [
    "# **Mejoras posibles en cuanto a marcas y canales**\n",
    "\n",
    "* Poder observar todos los nombres a simple vista (La visualización permite tener acceso a toda la información de las secciones del treemap sinembargo esto se logra sólo si se ubica el cursor encima de la categoría de interés, un caso puntual por ejemplo puede ser la información que se encuentra en vitalidad \"En Peligro de extinción\" y \"En situación crítica\"). Es decir que una mejora sería respecto a marca de área."
   ]
  }
 ],
 "metadata": {
  "kernelspec": {
   "display_name": "Python 3 (ipykernel)",
   "language": "python",
   "name": "python3"
  },
  "language_info": {
   "codemirror_mode": {
    "name": "ipython",
    "version": 3
   },
   "file_extension": ".py",
   "mimetype": "text/x-python",
   "name": "python",
   "nbconvert_exporter": "python",
   "pygments_lexer": "ipython3",
   "version": "3.9.7"
  }
 },
 "nbformat": 4,
 "nbformat_minor": 5
}
